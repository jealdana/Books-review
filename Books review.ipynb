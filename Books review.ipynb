{
 "cells": [
  {
   "cell_type": "markdown",
   "metadata": {},
   "source": [
    "# Interesting Books to read\n",
    "\n",
    "Motivation to read:  \n",
    "\n",
    ">\"*The average CEO reads over 4–5 books per month, which comes out to 60 books per year*\"  \n",
    ">*Source*: [Rype][rype]\n",
    "\n",
    "Note: Even if that statement may be false that doesn't harm anyone but construct more than do nothing. So I think it's worth it to try to read at least 4-5 book per month or even more if the technology allows.\n",
    "\n",
    "[rype]:<http://rypeapp.com/blog/5-easy-ways-to-read-more-books-and-double-your-knowledge/>\n"
   ]
  },
  {
   "cell_type": "markdown",
   "metadata": {},
   "source": [
    "## Books for the read any time:\n",
    "\n",
    "Books suggested to **Entrepreneur, Investors, Businessman and readers in general** :\n",
    "\n",
    "* The Intelligent Investor, by Benjamin Graham\n",
    "* Security Analysis, by Benjamin Graham and David L. Dodd\n",
    "* Common Stocks and Uncommon Profits, by Philip Fisher\n",
    "* Stress Test: Reflections on Financial Crises, by Tim Geithner\n",
    "* The Essays of Warren Buffett, by Warren Buffett\n",
    "* Jack: Straight from the Gut, by Jack Welch\n",
    "* The Outsiders, by William Thorndike Jr.\n",
    "* The Clash of the Cultures, by John Bogle\n",
    "* Business Adventures: Twelve Classic Tales From the World of Wall Street, by John Brooks\n",
    "* Where Are the Customers' Yachts? by Fred Schwed\n",
    "* Essays in Persuasion, by John Maynard Keynes\n",
    "* The Little Book of Common Sense Investing, by Jack Bogle\n",
    "* Poor Charlie's Almanack, edited by Peter Kaufman\n",
    "* The Most Important Thing Illuminated, by Howard Marks\n",
    "* Dream Big, by Cristiane Correa\n",
    "* First a Dream, by Jim Clayton and Bill Retherford\n",
    "* Take on the Street, by Arthur Levitt\n",
    "* Nuclear Terrorism by Graham Allison\n",
    "* Biography of Benjamin Franklin \n",
    "* Read about Socrates method (This is not a book but may be literature related to this topic)\n",
    "\n",
    "## To-do's\n",
    "\n",
    "Start posting the analysis of the books."
   ]
  }
 ],
 "metadata": {
  "kernelspec": {
   "display_name": "Python 3",
   "language": "python",
   "name": "python3"
  },
  "language_info": {
   "codemirror_mode": {
    "name": "ipython",
    "version": 3
   },
   "file_extension": ".py",
   "mimetype": "text/x-python",
   "name": "python",
   "nbconvert_exporter": "python",
   "pygments_lexer": "ipython3",
   "version": "3.5.1"
  }
 },
 "nbformat": 4,
 "nbformat_minor": 0
}
